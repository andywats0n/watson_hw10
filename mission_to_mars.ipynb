{
 "cells": [
  {
   "cell_type": "markdown",
<<<<<<< HEAD
=======
   "metadata": {},
   "source": [
    "### scraping libs"
   ]
  },
  {
   "cell_type": "code",
   "execution_count": 97,
>>>>>>> 17032c0442db6d793956f196bd8d82876ae35899
   "metadata": {},
   "source": [
    "#### Standard imports"
   ]
  },
  {
<<<<<<< HEAD
   "cell_type": "code",
   "execution_count": 19,
=======
   "cell_type": "markdown",
>>>>>>> 17032c0442db6d793956f196bd8d82876ae35899
   "metadata": {},
   "source": [
<<<<<<< HEAD
    "# !pip install splinter\n",
    "!activate base"
=======
    "### chrome driver"
>>>>>>> 17032c0442db6d793956f196bd8d82876ae35899
   ]
  },
  {
   "cell_type": "code",
   "execution_count": 20,
   "metadata": {},
   "outputs": [
    {
     "ename": "ModuleNotFoundError",
     "evalue": "No module named 'splinter'",
     "output_type": "error",
     "traceback": [
      "\u001b[1;31m---------------------------------------------------------------------------\u001b[0m",
      "\u001b[1;31mModuleNotFoundError\u001b[0m                       Traceback (most recent call last)",
      "\u001b[1;32m<ipython-input-20-c7605ca0dcf6>\u001b[0m in \u001b[0;36m<module>\u001b[1;34m()\u001b[0m\n\u001b[0;32m      1\u001b[0m \u001b[1;32mimport\u001b[0m \u001b[0mpandas\u001b[0m \u001b[1;32mas\u001b[0m \u001b[0mpd\u001b[0m\u001b[1;33m\u001b[0m\u001b[0m\n\u001b[0;32m      2\u001b[0m \u001b[1;32mimport\u001b[0m \u001b[0mrequests\u001b[0m\u001b[1;33m\u001b[0m\u001b[0m\n\u001b[1;32m----> 3\u001b[1;33m \u001b[1;32mimport\u001b[0m \u001b[0msplinter\u001b[0m\u001b[1;33m\u001b[0m\u001b[0m\n\u001b[0m\u001b[0;32m      4\u001b[0m \u001b[1;32mfrom\u001b[0m \u001b[0mbs4\u001b[0m \u001b[1;32mimport\u001b[0m \u001b[0mBeautifulSoup\u001b[0m \u001b[1;32mas\u001b[0m \u001b[0mbs\u001b[0m\u001b[1;33m\u001b[0m\u001b[0m\n",
      "\u001b[1;31mModuleNotFoundError\u001b[0m: No module named 'splinter'"
     ]
    }
   ],
   "source": [
<<<<<<< HEAD
    "import pandas as pd\n",
    "import requests\n",
    "import splinter\n",
    "from bs4 import BeautifulSoup as bs"
   ]
  },
  {
   "cell_type": "markdown",
   "metadata": {},
   "source": [
    "#### Standard beautiful soup function"
   ]
  },
  {
   "cell_type": "code",
   "execution_count": null,
   "metadata": {},
   "outputs": [],
   "source": [
    "def make_soup(url):\n",
    "    browser.visit(url)\n",
    "    soup = bs(browser.html, 'html.parser')\n",
    "    return soup"
=======
    "executable_path = {'executable_path': '/usr/local/bin/chromedriver'}\n",
    "browser = splinter.Browser('chrome', **executable_path, headless=False)"
   ]
  },
  {
   "cell_type": "markdown",
   "metadata": {},
   "source": [
    "### scrape news"
   ]
  },
  {
   "cell_type": "code",
   "execution_count": 2,
   "metadata": {},
   "outputs": [],
   "source": [
    "news_url = 'https://mars.nasa.gov/news/'\n",
    "browser.visit(news_url)\n",
    "soup = bs(browser.html, 'html.parser')\n",
    "news_title = soup.body.find(class_='content_title').text\n",
    "news_p = soup.body.find(class_='article_teaser_body').text"
>>>>>>> 17032c0442db6d793956f196bd8d82876ae35899
   ]
  },
  {
   "cell_type": "markdown",
<<<<<<< HEAD
   "metadata": {},
   "source": [
    "#### Chrome driver"
   ]
  },
  {
   "cell_type": "code",
   "execution_count": null,
   "metadata": {},
   "outputs": [],
   "source": [
    "executable_path = {'executable_path': '/usr/local/bin/chromedriver'}\n",
    "browser = splinter.Browser('chrome', **executable_path, headless=False)"
   ]
  },
  {
   "cell_type": "markdown",
   "metadata": {},
   "source": [
    "#### News stories"
   ]
  },
  {
   "cell_type": "code",
   "execution_count": null,
   "metadata": {},
   "outputs": [],
   "source": [
    "news_url = 'https://mars.nasa.gov/news/'\n",
    "news_soup = make_soup(news_url)"
   ]
  },
  {
   "cell_type": "code",
   "execution_count": null,
=======
>>>>>>> 17032c0442db6d793956f196bd8d82876ae35899
   "metadata": {},
   "source": [
<<<<<<< HEAD
    "news_title = news_soup.body.find(class_='content_title').text\n",
    "news_p = news_soup.body.find(class_='article_teaser_body').text"
   ]
  },
  {
   "cell_type": "markdown",
=======
    "### scrape img of the day"
   ]
  },
  {
   "cell_type": "code",
   "execution_count": 7,
>>>>>>> 17032c0442db6d793956f196bd8d82876ae35899
   "metadata": {},
   "source": [
<<<<<<< HEAD
    "#### Mars image of the day"
   ]
  },
  {
   "cell_type": "code",
   "execution_count": null,
=======
    "img_url = 'https://www.jpl.nasa.gov/spaceimages/?search=&category=Mars'\n",
    "browser.visit(img_url)\n",
    "browser.click_link_by_id('full_image')\n",
    "soup = bs(browser.html, 'html.parser')\n",
    "img_el = soup.body.find('img', class_='fancybox-image')\n",
    "featured_img_url = f\"{img_url}{img_el.attrs['src']}\""
   ]
  },
  {
   "cell_type": "markdown",
>>>>>>> 17032c0442db6d793956f196bd8d82876ae35899
   "metadata": {},
   "source": [
<<<<<<< HEAD
    "img_url = 'https://www.jpl.nasa.gov/spaceimages/?search=&category=Mars'\n",
    "browser.click_link_by_id('full_image')\n",
    "soup = bs(browser.html, 'html.parser')"
=======
    "### scrape weather tweets"
>>>>>>> 17032c0442db6d793956f196bd8d82876ae35899
   ]
  },
  {
   "cell_type": "code",
<<<<<<< HEAD
   "execution_count": null,
   "metadata": {},
   "outputs": [],
   "source": [
    "img_el = soup.body.find('img', class_='fancybox-image')\n",
    "featured_img_url = f\"{img_url}{img_el.attrs['src']}\""
   ]
  },
  {
   "cell_type": "markdown",
   "metadata": {},
   "source": [
    "#### Twitter weather update"
   ]
  },
  {
   "cell_type": "code",
   "execution_count": null,
=======
   "execution_count": 23,
>>>>>>> 17032c0442db6d793956f196bd8d82876ae35899
   "metadata": {},
   "outputs": [],
   "source": [
    "twitter_url = 'https://twitter.com/marswxreport?lang=en'\n",
<<<<<<< HEAD
    "twitter_soup = make_soup(twitter_url)\n",
    "\n",
    "mars_weather = twitter_soup.body.find(class_='js-tweet-text').text"
=======
    "browser.visit(twitter_url)\n",
    "soup = bs(browser.html, 'html.parser')\n",
    "mars_weather = soup.body.find(class_='js-tweet-text').text"
>>>>>>> 17032c0442db6d793956f196bd8d82876ae35899
   ]
  },
  {
   "cell_type": "markdown",
<<<<<<< HEAD
   "metadata": {},
   "source": [
    "#### Facts table"
   ]
  },
  {
   "cell_type": "code",
   "execution_count": null,
   "metadata": {},
   "outputs": [],
   "source": [
    "facts_url = 'http://space-facts.com/mars/'\n",
    "browser.visit(facts_url)"
=======
   "metadata": {},
   "source": [
    "### scrape facts table w/pandas"
>>>>>>> 17032c0442db6d793956f196bd8d82876ae35899
   ]
  },
  {
   "cell_type": "code",
<<<<<<< HEAD
   "execution_count": null,
   "metadata": {},
   "outputs": [],
   "source": [
=======
   "execution_count": 36,
   "metadata": {},
   "outputs": [],
   "source": [
    "facts_url = 'http://space-facts.com/mars/'\n",
    "browser.visit(facts_url)\n",
>>>>>>> 17032c0442db6d793956f196bd8d82876ae35899
    "facts_df = pd.read_html(facts_url)[0].rename(columns={0:\"key\", 1:\"value\"})\n",
    "facts_html = facts_df.to_html()"
   ]
  },
  {
   "cell_type": "markdown",
   "metadata": {},
   "source": [
<<<<<<< HEAD
    "#### Hemisphere img urls"
=======
    "### scrape hemisphere imgs"
>>>>>>> 17032c0442db6d793956f196bd8d82876ae35899
   ]
  },
  {
   "cell_type": "code",
<<<<<<< HEAD
   "execution_count": null,
=======
   "execution_count": 50,
>>>>>>> 17032c0442db6d793956f196bd8d82876ae35899
   "metadata": {},
   "outputs": [],
   "source": [
    "hems_url = 'https://astrogeology.usgs.gov/search/results?q=hemisphere+enhanced&k1=target&v1=Mars'\n",
<<<<<<< HEAD
    "hems_soup = make_soup(hems_url)"
=======
    "browser.visit(hems_url)\n",
    "soup = bs(browser.html, 'html.parser')"
>>>>>>> 17032c0442db6d793956f196bd8d82876ae35899
   ]
  },
  {
   "cell_type": "code",
   "execution_count": null,
   "metadata": {
    "scrolled": true
   },
   "outputs": [],
   "source": [
    "hem_titles = []\n",
    "for i in soup.body.findAll(class_='product-item'):\n",
    "    j = i.text.split(' ')[:-1]\n",
    "    if(len(j) > 0):\n",
    "        k = ' '.join(list(filter(lambda a: a != '', j)))\n",
    "        hem_titles.append(k)"
   ]
  },
  {
   "cell_type": "code",
   "execution_count": null,
   "metadata": {},
   "outputs": [],
   "source": [
    "hem_urls = []\n",
    "for i in hem_titles:\n",
    "    browser.click_link_by_partial_text(i)\n",
    "    soup = bs(browser.html, 'html.parser')\n",
    "    hem_urls.append(soup.find(class_='downloads').a.attrs['href'])\n",
    "    browser.visit(hems_url)    "
   ]
  },
  {
   "cell_type": "code",
   "execution_count": null,
   "metadata": {},
   "outputs": [],
   "source": [
    "hemisphere_image_urls = []\n",
    "for i in range(4):\n",
    "    hemisphere_image_urls.append({'title':hem_titles[i], 'img_url':hem_urls[i]})"
   ]
  },
  {
   "cell_type": "code",
   "execution_count": null,
   "metadata": {},
   "outputs": [],
   "source": [
    "browser.quit()"
   ]
  }
 ],
 "metadata": {
  "kernelspec": {
<<<<<<< HEAD
   "display_name": "Python [conda env:Anaconda3]",
   "language": "python",
   "name": "conda-env-Anaconda3-py"
=======
   "display_name": "Python 3",
   "language": "python",
   "name": "python3"
>>>>>>> 17032c0442db6d793956f196bd8d82876ae35899
  },
  "language_info": {
   "codemirror_mode": {
    "name": "ipython",
    "version": 3
   },
   "file_extension": ".py",
   "mimetype": "text/x-python",
   "name": "python",
   "nbconvert_exporter": "python",
   "pygments_lexer": "ipython3",
   "version": "3.6.5"
  }
 },
 "nbformat": 4,
 "nbformat_minor": 2
}
